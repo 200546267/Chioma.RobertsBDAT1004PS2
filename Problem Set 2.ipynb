{
 "cells": [
  {
   "cell_type": "code",
   "execution_count": 5,
   "id": "51ea6021",
   "metadata": {},
   "outputs": [],
   "source": [
    "#Question 1\n",
    "a=0\n",
    "\n",
    "def  b(): \n",
    "    global  a \n",
    "    a  = c(a) \n",
    "    print(a)\n",
    "    \n",
    "def  c(a): \n",
    "    return  a  +  2 "
   ]
  },
  {
   "cell_type": "code",
   "execution_count": 6,
   "id": "57666f38",
   "metadata": {},
   "outputs": [
    {
     "name": "stdout",
     "output_type": "stream",
     "text": [
      "2\n",
      "4\n",
      "6\n"
     ]
    },
    {
     "data": {
      "text/plain": [
       "6"
      ]
     },
     "execution_count": 6,
     "metadata": {},
     "output_type": "execute_result"
    }
   ],
   "source": [
    "#Question 1 Explanation\n",
    "\n",
    "b()\n",
    "b()\n",
    "b()\n",
    "a\n",
    "\n",
    "#It is important to note that function b(), holds a reference to the global variable a, a will retain any value assigned to it in function b\n",
    "#\n",
    "# At first function call b()\n",
    "# a =0, the call c(a) evaluates to return (0 +2) =2; this is then assigned to a in function b. hence print(a) prints 2. \n",
    "# this makes the global variable a = 2 at the end of this call\n",
    "#\n",
    "#At second function call b()\n",
    "# a =2, the call c(a) evaluates to return (2 +2) =4; this is then assigned to a in function b. hence print(a) prints 4. \n",
    "# this makes the global variable a = 4 at the end of this call\n",
    "#\n",
    "#At third function call b()\n",
    "# a =4, the call c(a) evaluates to return (4+2) =6; this is then assigned to a in function b. hence print(a) prints 6. \n",
    "# this makes the global variable a = 6 at the end of this call\n",
    "#\n",
    "# At the end of the thrid function call b(), a =6 hence the reason a outputs 6 to the console"
   ]
  },
  {
   "cell_type": "code",
   "execution_count": 14,
   "id": "0d3e79c3",
   "metadata": {},
   "outputs": [
    {
     "name": "stdout",
     "output_type": "stream",
     "text": [
      "File midterm.py not found\n"
     ]
    }
   ],
   "source": [
    "#Question 2\n",
    "\n",
    "def fileLength(fileName):\n",
    "    try:\n",
    "        infile = open(fileName)\n",
    "        content = infile.readlines()\n",
    "        print(len(content));\n",
    "        \n",
    "    except FileNotFoundError:\n",
    "        print (\"File \" + fileName + \" not found\")\n",
    "    except:\n",
    "        print(\"An unknown error occured. Please try again later\")\n",
    "        \n",
    "    \n",
    "fileLength('midterm.py')"
   ]
  },
  {
   "cell_type": "code",
   "execution_count": 15,
   "id": "e99e5c3a",
   "metadata": {},
   "outputs": [],
   "source": [
    "#Question 3\n",
    "class  Marsupial:\n",
    "    \n",
    "    def __init__(self):\n",
    "        self.l= []\n",
    "        \n",
    "    def put_in_pouch(self,x):\n",
    "        self.l.append(x)\n",
    "        \n",
    "    def pouch_contents(self):\n",
    "        print(self.l)\n",
    "        \n",
    "\n",
    "        "
   ]
  },
  {
   "cell_type": "code",
   "execution_count": 16,
   "id": "d7a955de",
   "metadata": {},
   "outputs": [
    {
     "name": "stdout",
     "output_type": "stream",
     "text": [
      "['doll', 'firetruck', 'kitten']\n"
     ]
    }
   ],
   "source": [
    ">>> m= Marsupial()\n",
    ">>> m.put_in_pouch('doll')\n",
    ">>> m.put_in_pouch('firetruck')\n",
    ">>> m.put_in_pouch('kitten')\n",
    ">>> m.pouch_contents()"
   ]
  },
  {
   "cell_type": "code",
   "execution_count": 19,
   "id": "7d82de10",
   "metadata": {},
   "outputs": [],
   "source": [
    "class Kangaroo(Marsupial):\n",
    "    \n",
    "    def __init__(self,x,y):\n",
    "        Marsupial.__init__(self) \n",
    "        self.x= x\n",
    "        self.y=y\n",
    "        \n",
    "    def jump(self,dx,dy):\n",
    "        self.x+=dx\n",
    "        self.y+=dy\n",
    "    \n",
    "    def __str__(self):\n",
    "        return 'I am a Kangaroo at points ({}, {})'.format(self.x, self.y)\n",
    "    "
   ]
  },
  {
   "cell_type": "code",
   "execution_count": 20,
   "id": "9ce8a219",
   "metadata": {},
   "outputs": [
    {
     "name": "stdout",
     "output_type": "stream",
     "text": [
      "I am a Kangaroo at points (0, 0)\n",
      "['doll', 'firetruck', 'kitten']\n",
      "I am a Kangaroo at points (3, 0)\n"
     ]
    }
   ],
   "source": [
    ">>> k  =  Kangaroo(0,0)\n",
    ">>> print(k) \n",
    ">>> k.put_in_pouch('doll') \n",
    ">>> k.put_in_pouch('firetruck') \n",
    ">>> k.put_in_pouch('kitten') \n",
    ">>> k.pouch_contents()\n",
    ">>> k.jump(1,0) \n",
    ">>> k.jump(1,0) \n",
    ">>> k.jump(1,0) \n",
    ">>> print(k) "
   ]
  },
  {
   "cell_type": "code",
   "execution_count": 29,
   "id": "7b5d031c",
   "metadata": {},
   "outputs": [
    {
     "name": "stdout",
     "output_type": "stream",
     "text": [
      "Collatz(1) is: \n",
      "1\n",
      "\n",
      "Collatz(10) is: \n",
      "10\n",
      "5\n",
      "16\n",
      "8\n",
      "4\n",
      "2\n",
      "1\n"
     ]
    }
   ],
   "source": [
    "#Question 4\n",
    "\n",
    "def collatz(x):\n",
    "    print(x)\n",
    "    \n",
    "    if x == 1:\n",
    "        return\n",
    "    \n",
    "    if x % 2 == 0:\n",
    "        collatz(x // 2)\n",
    "    else:\n",
    "        collatz(3 * x + 1)\n",
    "        \n",
    "print(\"Collatz(1) is: \")\n",
    "collatz(1)\n",
    "print()\n",
    "print(\"Collatz(10) is: \")\n",
    "collatz(10)"
   ]
  },
  {
   "cell_type": "code",
   "execution_count": 43,
   "id": "22db756f",
   "metadata": {},
   "outputs": [
    {
     "name": "stdout",
     "output_type": "stream",
     "text": [
      "0\n",
      "1\n",
      "11\n",
      "1001\n"
     ]
    }
   ],
   "source": [
    "#Question 5\n",
    "def binary(n):\n",
    "    if n > 1:\n",
    "        binary(n // 2)\n",
    "    print(n % 2, end='')\n",
    "\n",
    "binary(0)\n",
    "print()\n",
    "binary(1)\n",
    "print()\n",
    "binary(3)\n",
    "print()\n",
    "binary(9)\n",
    "print()"
   ]
  },
  {
   "cell_type": "code",
   "execution_count": 9,
   "id": "b2028019",
   "metadata": {},
   "outputs": [
    {
     "name": "stdout",
     "output_type": "stream",
     "text": [
      "W3C Mission\n",
      " Principles\n"
     ]
    }
   ],
   "source": [
    "#Question 6\n",
    "\n",
    "from html.parser import HTMLParser\n",
    "\n",
    "class HeadingParser(HTMLParser):\n",
    "    def __init__(self):\n",
    "        super().__init__()\n",
    "        self.headings = []\n",
    "        self.current_heading = \"\"\n",
    "\n",
    "    def handle_starttag(self, tag, attrs):\n",
    "        if tag.startswith('h') and len(tag)==2:\n",
    "            self.current_heading = tag[1:]\n",
    "\n",
    "    def handle_data(self, data):\n",
    "        if self.current_heading.strip():\n",
    "            self.headings.append((self.current_heading, data))\n",
    "            self.current_heading='';\n",
    "\n",
    "    def printOut(self):\n",
    "        indent = {'1': 0, '2': 1, '3': 2, '4': 3, '5': 4, '6': 5}\n",
    "        for indentCount, data in self.headings:\n",
    "            print(\" \" * indent[indentCount] + data)\n",
    "try:\n",
    "    infile = open('w3c.html') \n",
    "    content = infile.read() \n",
    "    infile.close() \n",
    "    hp = HeadingParser() \n",
    "    hp.feed(content) \n",
    "    hp.printOut()\n",
    "except FileNotFoundError:\n",
    "        print (\"File not found\")\n",
    "except:\n",
    "        print(\"An unknown error occured. Please try again later\")"
   ]
  },
  {
   "cell_type": "code",
   "execution_count": 34,
   "id": "660eed45",
   "metadata": {},
   "outputs": [
    {
     "name": "stdout",
     "output_type": "stream",
     "text": [
      "City \t Country \t Season \t Temperature \t Rainfall\n",
      "('Mumbai', 'India', 'Winter', 24.8, 5.9)\n",
      "('Mumbai', 'India', 'Spring', 28.4, 16.2)\n",
      "('Mumbai', 'India', 'Summer', 27.9, 1549.4)\n",
      "('Mumbai', 'India', 'Fall', 27.6, 346)\n",
      "('London', 'United Kingdom', 'Winter', 4.2, 207.7)\n",
      "('London', 'United Kingdom', 'Spring', 8.3, 169.6)\n",
      "('London', 'United Kingdom', 'Summer', 15.7, 159)\n",
      "('London', 'United Kingdom', 'Fall', 10.4, 218.5)\n",
      "('Cairo', 'Egypt', 'Winter', 13.6, 16.5)\n",
      "('Cairo', 'Egypt', 'Spring', 20.7, 6.5)\n",
      "('Cairo', 'Egypt', 'Summer', 27.7, 0.1)\n",
      "('Cairo', 'Egypt', 'Fall', 22.2, 4.5)\n",
      "\n",
      "City\n",
      "('Mumbai',)\n",
      "('London',)\n",
      "('Cairo',)\n",
      "\n",
      "City \t Country \t Season \t Temperature \t Rainfall\n",
      "('Mumbai', 'India', 'Winter', 24.8, 5.9)\n",
      "('Mumbai', 'India', 'Spring', 28.4, 16.2)\n",
      "('Mumbai', 'India', 'Summer', 27.9, 1549.4)\n",
      "('Mumbai', 'India', 'Fall', 27.6, 346)\n",
      "\n",
      "City \t Country \t Season \t Temperature \t Rainfall\n",
      "('Mumbai', 'India', 'Fall', 27.6, 346)\n",
      "('London', 'United Kingdom', 'Fall', 10.4, 218.5)\n",
      "('Cairo', 'Egypt', 'Fall', 22.2, 4.5)\n",
      "\n",
      "City \t Country \t Season\n",
      "('Mumbai', 'India', 'Fall')\n",
      "('London', 'United Kingdom', 'Winter')\n",
      "('London', 'United Kingdom', 'Fall')\n",
      "\n",
      "City \t Country\n",
      "('Cairo', 'Egypt')\n",
      "('Cairo', 'Egypt')\n",
      "('Mumbai', 'India')\n",
      "('Mumbai', 'India')\n",
      "('Cairo', 'Egypt')\n",
      "('Mumbai', 'India')\n",
      "('Mumbai', 'India')\n",
      "\n",
      "Annual Rainfall For Cairo \n",
      "(27.6,)\n",
      "\n",
      "Season \t Total Rainfall\n",
      "('Fall', 569.0)\n",
      "('Spring', 192.29999999999998)\n",
      "('Summer', 1708.5)\n",
      "('Winter', 230.1)\n",
      "\n"
     ]
    }
   ],
   "source": [
    "#Question 8\n",
    "import sqlite3\n",
    "con = sqlite3.connect('seasons.db')\n",
    "cur = con.cursor()\n",
    "cur.execute(\"CREATE TABLE IF NOT EXISTS Temperature (City text, Country text, Season text,Temperature decimal(18,2),Rainfall decimal(18,2))\")\n",
    "cur.execute(\"INSERT INTO Temperature VALUES ('Mumbai', 'India', 'Winter', 24.8, 5.9)\")\n",
    "cur.execute(\"INSERT INTO Temperature VALUES ('Mumbai', 'India', 'Spring', 28.4, 16.2)\")\n",
    "cur.execute(\"INSERT INTO Temperature VALUES ('Mumbai', 'India', 'Summer', 27.9, 1549.4)\")\n",
    "cur.execute(\"INSERT INTO Temperature VALUES ('Mumbai', 'India', 'Fall', 27.6, 346.0)\")\n",
    "cur.execute(\"INSERT INTO Temperature VALUES ('London', 'United Kingdom', 'Winter', 4.2, 207.7)\")\n",
    "cur.execute(\"INSERT INTO Temperature VALUES ('London', 'United Kingdom', 'Spring', 8.3, 169.6)\")\n",
    "cur.execute(\"INSERT INTO Temperature VALUES ('London', 'United Kingdom', 'Summer', 15.7, 159.0)\")\n",
    "cur.execute(\"INSERT INTO Temperature VALUES ('London', 'United Kingdom', 'Fall', 10.4, 218.5)\")\n",
    "cur.execute(\"INSERT INTO Temperature VALUES ('Cairo', 'Egypt', 'Winter', 13.6, 16.5)\")\n",
    "cur.execute(\"INSERT INTO Temperature VALUES ('Cairo', 'Egypt', 'Spring', 20.7, 6.5)\")\n",
    "cur.execute(\"INSERT INTO Temperature VALUES ('Cairo', 'Egypt', 'Summer', 27.7, 0.1)\")\n",
    "cur.execute(\"INSERT INTO Temperature VALUES ('Cairo', 'Egypt', 'Fall', 22.2, 4.5)\")\n",
    "\n",
    "\n",
    "#8a\n",
    "cur.execute(\"Select * from Temperature\")\n",
    "list= cur.fetchall()\n",
    "print('City \\t Country \\t Season \\t Temperature \\t Rainfall')\n",
    "print(*list, sep = \"\\n\")\n",
    "print()\n",
    "\n",
    "\n",
    "#8b\n",
    "cur.execute(\"Select distinct City from Temperature\")\n",
    "list= cur.fetchall()\n",
    "print('City')\n",
    "print(*list, sep = \"\\n\")\n",
    "print()\n",
    "\n",
    "#8c\n",
    "cur.execute(\"Select * from Temperature where country ='India'\")\n",
    "list= cur.fetchall()\n",
    "print('City \\t Country \\t Season \\t Temperature \\t Rainfall')\n",
    "print(*list, sep = \"\\n\")\n",
    "print()\n",
    "\n",
    "\n",
    "#8d\n",
    "cur.execute(\"Select * from Temperature where season ='Fall'\")\n",
    "list= cur.fetchall()\n",
    "print('City \\t Country \\t Season \\t Temperature \\t Rainfall')\n",
    "print(*list, sep = \"\\n\")\n",
    "print()\n",
    "\n",
    "#8e\n",
    "cur.execute(\"Select City,Country,Season from Temperature where rainfall between 200 and 400\")\n",
    "list= cur.fetchall()\n",
    "print('City \\t Country \\t Season')\n",
    "print(*list, sep = \"\\n\")\n",
    "print()\n",
    "\n",
    "\n",
    "#8f\n",
    "cur.execute(\"Select City,Country from Temperature where temperature>20 order by temperature\")\n",
    "list= cur.fetchall()\n",
    "print('City \\t Country')\n",
    "print(*list, sep = \"\\n\")\n",
    "print()\n",
    "\n",
    "#8g\n",
    "cur.execute(\"Select sum(rainfall) from Temperature where city='Cairo'\")\n",
    "list= cur.fetchall()\n",
    "print('Annual Rainfall For Cairo ')\n",
    "print(*list, sep = \"\\n\")\n",
    "print()\n",
    "\n",
    "#8h\n",
    "cur.execute(\"Select season,sum(rainfall) from Temperature group by season\")\n",
    "list= cur.fetchall()\n",
    "print('Season \\t Total Rainfall')\n",
    "print(*list, sep = \"\\n\")\n",
    "print()\n",
    "\n"
   ]
  },
  {
   "cell_type": "code",
   "execution_count": 49,
   "id": "20267db0",
   "metadata": {},
   "outputs": [
    {
     "name": "stdout",
     "output_type": "stream",
     "text": [
      "['THE', 'QUICK', 'BROWN', 'FOX', 'JUMPS', 'OVER', 'THE', 'LAZY', 'DOG']\n",
      "\n",
      "['the', 'quick', 'brown', 'fox', 'jumps', 'over', 'the', 'lazy', 'dog']\n",
      "\n",
      "[3, 5, 5, 3, 5, 4, 3, 4, 3]\n",
      "\n",
      "[['THE', 'the', 3], ['QUICK', 'quick', 5], ['BROWN', 'brown', 5], ['FOX', 'fox', 3], ['JUMPS', 'jumps', 5], ['OVER', 'over', 4], ['THE', 'the', 3], ['LAZY', 'lazy', 4], ['DOG', 'dog', 3]]\n",
      "\n",
      "['quick', 'brown', 'jumps', 'over', 'lazy']\n",
      "\n"
     ]
    }
   ],
   "source": [
    "#Question 9\n",
    "words  =  ['The',  'quick',  'brown',  'fox',  'jumps',  'over', 'the',  'lazy',  'dog'] \n",
    "\n",
    "#9a\n",
    "expression= [word.upper() for word in words]\n",
    "print(expression)\n",
    "print()\n",
    "\n",
    "#9b\n",
    "expression= [word.lower() for word in words]\n",
    "print(expression)\n",
    "print()\n",
    "\n",
    "#9c\n",
    "expression= [len(word) for word in words]\n",
    "print(expression)\n",
    "print()\n",
    "\n",
    "#9d\n",
    "expression= [[word.upper(),word.lower(),len(word)] for word in words]\n",
    "print(expression)\n",
    "print()\n",
    "\n",
    "#9e\n",
    "expression= [word for word in words if len(word)>=4]\n",
    "print(expression)\n",
    "print()\n",
    "\n"
   ]
  },
  {
   "cell_type": "code",
   "execution_count": null,
   "id": "8d1f1532",
   "metadata": {},
   "outputs": [],
   "source": []
  }
 ],
 "metadata": {
  "kernelspec": {
   "display_name": "Python 3 (ipykernel)",
   "language": "python",
   "name": "python3"
  },
  "language_info": {
   "codemirror_mode": {
    "name": "ipython",
    "version": 3
   },
   "file_extension": ".py",
   "mimetype": "text/x-python",
   "name": "python",
   "nbconvert_exporter": "python",
   "pygments_lexer": "ipython3",
   "version": "3.10.9"
  }
 },
 "nbformat": 4,
 "nbformat_minor": 5
}
